{
 "cells": [
  {
   "cell_type": "markdown",
   "metadata": {},
   "source": [
    "## Random Forest:"
   ]
  },
  {
   "cell_type": "code",
   "execution_count": 1,
   "metadata": {},
   "outputs": [],
   "source": [
    "# Importe\n",
    "import streamlit as st\n",
    "import pandas as pd\n",
    "import matplotlib.pyplot as plt\n",
    "import seaborn as sns\n",
    "import numpy as np\n",
    "\n",
    "from sklearn.model_selection import train_test_split\n",
    "from sklearn.ensemble import RandomForestRegressor\n",
    "from sklearn.model_selection import GridSearchCV\n",
    "from sklearn.metrics import mean_squared_error, r2_score, mean_absolute_error\n",
    "import joblib\n",
    "\n",
    "from preprocessing import data_preprocessing"
   ]
  },
  {
   "cell_type": "code",
   "execution_count": 2,
   "metadata": {},
   "outputs": [],
   "source": [
    "# Vordefinierte Farbpaletten\n",
    "color_palette_1 = ['#763DFF']    # 1 Farbe für Diagramm\n",
    "color_palette_2 = ['#763DFF', '#FF3D65']    # 2 Farben für Diagramm\n",
    "color_palette_3 = ['#763DFF', '#FF3D65', '#C6FF3D']    # 3 Farben für Diagramm\n",
    "color_palette_4 = ['#763DFF', '#FF3D65', '#C6FF3D', '#3DFFD7']    # 4 Farben für Diagramm\n",
    "\n",
    "# Vordefinierte Schriftgrößen für Achsen und titel\n",
    "fontsize_title = 20\n",
    "fontsize_axes =15"
   ]
  },
  {
   "cell_type": "code",
   "execution_count": 3,
   "metadata": {},
   "outputs": [],
   "source": [
    "def get_tuned_model_random_forest():\n",
    "\n",
    "    # Daten vorbereiten\n",
    "    merge_train, merge_test = data_preprocessing()\n",
    "\n",
    "    # Features und Target festlegen\n",
    "    X = merge_train.drop(['Date', 'Year', 'Month', 'Week', 'Weekly_Sales'], axis=1)\n",
    "    y = merge_train['Weekly_Sales']  # Target\n",
    "\n",
    "    # Daten in Trainings- und Testsets aufteilen\n",
    "    X_train, X_test, y_train, y_test = train_test_split(X, y, test_size=0.3, random_state=101)\n",
    "\n",
    "    # Hyperparameter für GridSearch festlegen\n",
    "    param_grid = {\n",
    "        'n_estimators': [50, 100, 200, 300],\n",
    "        'max_depth': [10, 15, 20, 25, None],\n",
    "        'min_samples_split': [2, 5, 10],\n",
    "        'max_features': ['sqrt', 'log2', None],\n",
    "        'max_leaf_nodes': [None, 10, 50, 100]\n",
    "    }\n",
    "\n",
    "    # GridSearchCV mit RandomForestRegressor\n",
    "    grid_search = GridSearchCV(estimator=RandomForestRegressor(), param_grid=param_grid, cv=5, n_jobs=-1)\n",
    "    grid_search.fit(X_train, y_train)\n",
    "\n",
    "    # Bestes Modell finden und speichern\n",
    "    tuned_model = grid_search.best_estimator_\n",
    "    joblib.dump(tuned_model, 'random_forest_model.pkl')\n",
    "    print(grid_search.best_estimator_)\n",
    "    print(grid_search.best_params_)\n",
    "\n",
    "    \n",
    "    "
   ]
  },
  {
   "cell_type": "code",
   "execution_count": 19,
   "metadata": {},
   "outputs": [],
   "source": [
    "get_tuned_model_random_forest()"
   ]
  },
  {
   "cell_type": "code",
   "execution_count": 17,
   "metadata": {},
   "outputs": [],
   "source": [
    "def visualizing_forecasts(y_test_future):\n",
    "    # merge_train aus preprocessing.py importieren\n",
    "    merge_train, merge_test = data_preprocessing()\n",
    "\n",
    "    # 'Date' aus merge_test in Variable abspeichern\n",
    "    future_dates = merge_test['Date']  # für spätere Visualisierung in visualizing_forecasts\n",
    "\n",
    "    # Predictions mit 'Date' anreichern für Visualisierung im Diagramm\n",
    "    y_test_future_with_date = y_test_future.copy()\n",
    "    y_test_future_with_date['Date'] = future_dates\n",
    "\n",
    "    # historische Werte für Diagramm beschaffen\n",
    "    historical_values_for_diagram = merge_train[['Date', 'Weekly_Sales']]\n",
    "\n",
    "    # Erstellung Liniendiagramm\n",
    "    sns.set_style('darkgrid')\n",
    "    fig1, ax1 = plt.subplots(figsize=(15, 6))\n",
    "    \n",
    "    # Historische Werte plotten\n",
    "    historical_values_for_diagram.groupby('Date')['Weekly_Sales'].mean().plot(label='Historisch', ax=ax1)\n",
    "    # Prognostizierte Werte plotten\n",
    "    y_test_future_with_date.groupby('Date')['Weekly_Sales'].mean().plot(color='orange', label='Prognostiziert', ax=ax1)\n",
    "\n",
    "    ax1.legend(loc='best', fontsize=12)  # Setze die Schriftgröße direkt\n",
    "    ax1.set_ylabel('Sales', fontsize=12)  # Korrigierte Methode\n",
    "    ax1.set_xlabel('Date', fontsize=12)    # Korrigierte Methode\n",
    "    ax1.set_title('Historische vs. Prognostizierte Sales', fontsize=14)  # Korrigierte Methode\n",
    "\n",
    "    plt.show()\n",
    "\n",
    "    # Erstellung Tabellen\n",
    "    table1 = y_test_future_with_date.set_index('Date')\n",
    "\n",
    "    \n",
    "\n",
    "\n"
   ]
  },
  {
   "cell_type": "code",
   "execution_count": 6,
   "metadata": {},
   "outputs": [],
   "source": [
    "# Bewertung der Modellleistung auf dem Trainings- und Testdatensatz\n",
    "def evaluate_model(tuned_model, X_train, y_train, X_test, y_test):\n",
    "\n",
    "    # Vorhersagen auf Trainings- und Testdaten (basierend auf train.csv)\n",
    "    y_train_pred = tuned_model.predict(X_train)\n",
    "    y_test_pred = tuned_model.predict(X_test)  \n",
    "\n",
    "    # Berechnung der Metriken auf Trainingsdaten (basierend auf train.csv)\n",
    "    mse_train = mean_squared_error(y_train, y_train_pred)\n",
    "    rmse_train = np.sqrt(mse_train)\n",
    "    mae_train = mean_absolute_error(y_train, y_train_pred)\n",
    "    r2_train = r2_score(y_train, y_train_pred)\n",
    "\n",
    "    # Berechnung der Metriken auf Testdaten (basierend auf train.csv)\n",
    "    mse_test = mean_squared_error(y_test, y_test_pred)  \n",
    "    rmse_test = np.sqrt(mse_test)\n",
    "    mae_test = mean_absolute_error(y_test, y_test_pred)  \n",
    "    r2_test = r2_score(y_test, y_test_pred) \n",
    "\n",
    "    return mse_train, rmse_train, mae_train, r2_train, mse_test, rmse_test, mae_test, r2_test"
   ]
  },
  {
   "cell_type": "code",
   "execution_count": 13,
   "metadata": {},
   "outputs": [],
   "source": [
    "def sales_forecast():\n",
    "\n",
    "    # Import merge_train\n",
    "    merge_train, merge_test = data_preprocessing()\n",
    "\n",
    "    # Tuned_Model laden\n",
    "    tuned_model = joblib.load('random_forest_model.pkl')\n",
    "\n",
    "    # Splitte Trainingsdaten (train.csv) in train und test \n",
    "    X = merge_train.drop(['Date','Year', 'Month', 'Week', 'Weekly_Sales'], axis=1) # Alle Originalfeatures (ohne Weekly_Sales = Target und ohne Zeitkomponenten) \n",
    "    y = merge_train['Weekly_Sales']     # Nur Weekly_Sales (Target) \n",
    "    X_train, X_test, y_train, y_test = train_test_split(X, y, test_size=0.3, random_state=101) \n",
    "\n",
    "    # Überprüfung auf Overfitting und Underfitting\n",
    "    mse_train, rmse_train, mae_train, r2_train, mse_test, rmse_test, mae_test, r2_test = evaluate_model(tuned_model, X_train, y_train, X_test, y_test)\n",
    "\n",
    "    \n",
    "    # Prognosen für Zukunft erstellen (basierend auf train.csv)\n",
    "\n",
    "    # Einführung zusätzlicher Testdatensatz aus merge_test für Schätzung und Visualisierung der Prognosen\n",
    "    X_test_future = merge_test.drop(['Date','Year', 'Month', 'Week'], axis=1)     # Features aus Testdatensatz (test.csv)\n",
    "\n",
    "    predictions = tuned_model.predict(X_test_future)\n",
    "    y_test_future = pd.DataFrame({'Weekly_Sales': predictions})\n",
    "\n",
    "    # Historische Daten und Forecasts visualisieren\n",
    "    visualizing_forecasts(y_test_future)\n",
    "\n",
    "    # Modellperformance bewerten\n",
    "    print(f'\\nEvaluation Results:')\n",
    "    print(f'Training MSE: {mse_train:.4f}, RMSE: {rmse_train:.4f}, MAE: {mae_train:.4f}, R²: {r2_train:.4f}')\n",
    "    print(f'Test MSE: {mse_test:.4f}, RMSE: {rmse_test:.4f}, MAE: {mae_test:.4f}, R²: {r2_test:.4f}')\n",
    "\n",
    "    if rmse_test > rmse_train and (rmse_test - rmse_train) > 0.1 * rmse_train:\n",
    "        print(f'\\nWarning: Potential overfitting. Test RMSE is significantly higher than Train RMSE.')\n",
    "    elif rmse_train > rmse_test:\n",
    "        print(f'\\nWarning: Potential underfitting. Train RMSE is higher than Test RMSE.')\n",
    "    else:\n",
    "        print(f'\\nThe model seems to be well-balanced.')\n",
    "\n",
    "\n",
    " \n",
    "    "
   ]
  },
  {
   "cell_type": "code",
   "execution_count": 18,
   "metadata": {},
   "outputs": [
    {
     "name": "stdout",
     "output_type": "stream",
     "text": [
      "\n",
      "Evaluation Results:\n",
      "Training MSE: 3837604.2181, RMSE: 1958.9804, MAE: 727.5964, R²: 0.9925\n",
      "Test MSE: 31860302.6035, RMSE: 5644.4931, MAE: 1968.5644, R²: 0.9391\n",
      "\n",
      "Warning: Potential overfitting. Test RMSE is significantly higher than Train RMSE.\n"
     ]
    },
    {
     "name": "stderr",
     "output_type": "stream",
     "text": [
      "C:\\Users\\mail\\AppData\\Local\\Temp\\ipykernel_10716\\3107404071.py:29: UserWarning: FigureCanvasAgg is non-interactive, and thus cannot be shown\n",
      "  plt.show()\n"
     ]
    }
   ],
   "source": [
    "# Aufruf\n",
    "#tuned_model = get_tuned_model_random_forest() # Random Forest\n",
    "y_test_future = sales_forecast()\n",
    "\n"
   ]
  },
  {
   "cell_type": "code",
   "execution_count": null,
   "metadata": {},
   "outputs": [],
   "source": []
  }
 ],
 "metadata": {
  "kernelspec": {
   "display_name": "base",
   "language": "python",
   "name": "python3"
  },
  "language_info": {
   "codemirror_mode": {
    "name": "ipython",
    "version": 3
   },
   "file_extension": ".py",
   "mimetype": "text/x-python",
   "name": "python",
   "nbconvert_exporter": "python",
   "pygments_lexer": "ipython3",
   "version": "3.11.7"
  }
 },
 "nbformat": 4,
 "nbformat_minor": 2
}
