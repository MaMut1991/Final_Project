{
 "cells": [
  {
   "cell_type": "markdown",
   "metadata": {},
   "source": [
    "# Time Series Analysis\n",
    "\n",
    "### 1. Datenvorbereitung\n",
    "\n",
    "- Zeitstempel sicherstellen: Dein Datensatz sollte eine Datums- oder Zeitvariable enthalten (z. B. Date oder Week), die als Index festgelegt wird.\n",
    "- Daten sortieren: Sortiere die Daten nach dem Zeitstempel, damit sie chronologisch geordnet sind.\n",
    "- Resampling (optional): Wenn die Daten nicht wöchentlich aggregiert sind, kannst du sie auf wöchentlicher Basis aggregieren."
   ]
  },
  {
   "cell_type": "code",
   "execution_count": null,
   "metadata": {},
   "outputs": [],
   "source": [
    "# Import Bibliotheken\n",
    "\n",
    "import pandas as pd\n",
    "import matplotlib.pyplot as plt\n",
    "import seaborn as sns\n",
    "import numpy as np"
   ]
  },
  {
   "cell_type": "code",
   "execution_count": null,
   "metadata": {},
   "outputs": [],
   "source": [
    "# Einlesen CSV-Dateien \n",
    "\n",
    "stores_raw = pd.read_csv('stores.csv')\n",
    "features_raw = pd.read_csv('features.csv')\n",
    "test_raw = pd.read_csv('test.csv')\n",
    "train_raw = pd.read_csv('train.csv')\n",
    "\n",
    "# Data Frames erzeuen\n",
    "\n",
    "stores = pd.DataFrame(stores_raw)\n",
    "features = pd.DataFrame(features_raw)\n",
    "train = pd.DataFrame(train_raw)\n",
    "test = pd.DataFrame(test_raw)"
   ]
  },
  {
   "cell_type": "code",
   "execution_count": null,
   "metadata": {},
   "outputs": [],
   "source": [
    "# In stores['Type'] zum Integer casten\n",
    "\n",
    "def transform_Type(row):\n",
    "\n",
    "    if row == 'A':\n",
    "        return 1\n",
    "    elif row == 'B':\n",
    "        return 2\n",
    "    elif row == 'C':\n",
    "        return 3\n",
    "    else:\n",
    "        pass\n",
    "\n",
    "stores.Type = stores.Type.apply(transform_Type)\n",
    "\n",
    "# Type A ist jetzt Type 1\n",
    "# Type B ist jetzt Type 2\n",
    "# Type C ist jetzt Type 3"
   ]
  },
  {
   "cell_type": "markdown",
   "metadata": {},
   "source": []
  }
 ],
 "metadata": {
  "language_info": {
   "name": "python"
  }
 },
 "nbformat": 4,
 "nbformat_minor": 2
}
